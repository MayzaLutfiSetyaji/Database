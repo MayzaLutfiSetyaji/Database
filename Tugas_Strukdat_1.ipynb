{
  "cells": [
    {
      "cell_type": "markdown",
      "metadata": {
        "id": "view-in-github",
        "colab_type": "text"
      },
      "source": [
        "<a href=\"https://colab.research.google.com/github/MayzaLutfiSetyaji/Database/blob/main/Tugas_Strukdat_1.ipynb\" target=\"_parent\"><img src=\"https://colab.research.google.com/assets/colab-badge.svg\" alt=\"Open In Colab\"/></a>"
      ]
    },
    {
      "cell_type": "code",
      "execution_count": 16,
      "metadata": {
        "colab": {
          "base_uri": "https://localhost:8080/"
        },
        "id": "SaWyjze8xQaL",
        "outputId": "c039e0d8-f04e-463a-933a-677395646cbc"
      },
      "outputs": [
        {
          "output_type": "stream",
          "name": "stdout",
          "text": [
            "Masukkan ukuran peta: 10\n",
            "\n",
            "SELAMAT DATANG DI PERMAINAN TREASURE HUNT! \n",
            "AYO BANTU KAPTEN JACK SPARROW MENCARI HARTA KARUN!!\n",
            "\n",
            "PETA MEMILIKI LUAS SEBESAR 10 DENGAN LOKASI (0 HINGGA 9).\n",
            "Ayo cari harta karun dengan Kapten Jack Sparrow!! \n",
            "1. Ayo!! \n",
            "2. Tampilkan peta tersembunyi\n",
            "3. Mungkin lain kali saja\n",
            "Pilih opsi mu: 1\n",
            "\n",
            "HARTA TELAH DISEMBUNYIKAN!! GUNAKAN INSTING BAJAK LAUTMU UNTUK MENCARINYA!!\n",
            "Jack Sparrow: \"Hei nak, carilah harta karun itu dengan menebak indeks yang benar! \n",
            "Aku akan memberimu secangkir bir jika berhasil\" \n",
            "Masukkan lokasi harta karun (0-9): 3\n",
            "Jack Sparrow: \"Demi loker Davy Jones!! Kau berhasil nak! Ini bir mu...\" \n",
            "\n",
            "SELAMAT DATANG DI PERMAINAN TREASURE HUNT! \n",
            "AYO BANTU KAPTEN JACK SPARROW MENCARI HARTA KARUN!!\n",
            "\n",
            "PETA MEMILIKI LUAS SEBESAR 10 DENGAN LOKASI (0 HINGGA 9).\n",
            "Ayo cari harta karun dengan Kapten Jack Sparrow!! \n",
            "1. Ayo!! \n",
            "2. Tampilkan peta tersembunyi\n",
            "3. Mungkin lain kali saja\n",
            "Pilih opsi mu: 1\n",
            "\n",
            "HARTA TELAH DISEMBUNYIKAN!! GUNAKAN INSTING BAJAK LAUTMU UNTUK MENCARINYA!!\n",
            "Jack Sparrow: \"Hei nak, carilah harta karun itu dengan menebak indeks yang benar! \n",
            "Aku akan memberimu secangkir bir jika berhasil\" \n",
            "Masukkan lokasi harta karun (0-9): 4\n",
            "Jack Sparrow : \"Coba lagi nak... Bahkan nenekku saja bisa melakukannya.\"\n",
            "\n",
            "SELAMAT DATANG DI PERMAINAN TREASURE HUNT! \n",
            "AYO BANTU KAPTEN JACK SPARROW MENCARI HARTA KARUN!!\n",
            "\n",
            "PETA MEMILIKI LUAS SEBESAR 10 DENGAN LOKASI (0 HINGGA 9).\n",
            "Ayo cari harta karun dengan Kapten Jack Sparrow!! \n",
            "1. Ayo!! \n",
            "2. Tampilkan peta tersembunyi\n",
            "3. Mungkin lain kali saja\n",
            "Pilih opsi mu: 4\n",
            "Pilih opsi permainan yang tersedia\n",
            "\n",
            "SELAMAT DATANG DI PERMAINAN TREASURE HUNT! \n",
            "AYO BANTU KAPTEN JACK SPARROW MENCARI HARTA KARUN!!\n",
            "\n",
            "PETA MEMILIKI LUAS SEBESAR 10 DENGAN LOKASI (0 HINGGA 9).\n",
            "Ayo cari harta karun dengan Kapten Jack Sparrow!! \n",
            "1. Ayo!! \n",
            "2. Tampilkan peta tersembunyi\n",
            "3. Mungkin lain kali saja\n",
            "Pilih opsi mu: 3\n",
            "Jack Sparrow: \"Sampai jumpa di kapal black pearl nak...\n",
            "Kapal ini siap untuk menerjang 7 lautan denganmu lain kali.\"\n"
          ]
        }
      ],
      "source": [
        "#Treasure Hunt\n",
        "#Fungsi untuk membuat permainan\n",
        "ukuran = int(input(\"Masukkan ukuran peta: \"))\n",
        "map_harta = [\"_\" for _ in range (ukuran)]\n",
        "def main_permainan():\n",
        "  #Mengimport modul random\n",
        "  import random as ran\n",
        "\n",
        "  #Mengacak angka\n",
        "  indeks_acak = ran.randint(0, ukuran-1)\n",
        "\n",
        "  print(\"\\nHARTA TELAH DISEMBUNYIKAN!! GUNAKAN INSTING BAJAK LAUTMU UNTUK MENCARINYA!!\")\n",
        "  print(\"Jack Sparrow: \\\"Hei nak, carilah harta karun itu dengan menebak indeks yang benar! \\nAku akan memberimu secangkir bir jika berhasil\\\" \")\n",
        "  try:\n",
        "    indeks_harta = int(input(f\"Masukkan lokasi harta karun (0-{ukuran-1}): \"))\n",
        "    map_harta[indeks_harta] = \"X\"\n",
        "    if indeks_harta == indeks_acak:\n",
        "      print(\"Jack Sparrow: \\\"Demi loker Davy Jones!! Kau berhasil nak! Ini bir mu...\\\" \")\n",
        "    else:\n",
        "      print(\"Jack Sparrow : \\\"Coba lagi nak... Bahkan nenekku saja bisa melakukannya.\\\"\")\n",
        "  except ValueError:\n",
        "    print(\"Jack Sparrow : \\\"Apa yang kau lakukan!? Tebak dengan benar!!\\\"\")\n",
        "\n",
        "#Menentukan lokasi harta secara manual\n",
        "while True:\n",
        "  print(\"\\nSELAMAT DATANG DI PERMAINAN TREASURE HUNT! \\nAYO BANTU KAPTEN JACK SPARROW MENCARI HARTA KARUN!!\")\n",
        "  print(f\"\\nPETA MEMILIKI LUAS SEBESAR {ukuran} DENGAN LOKASI (0 HINGGA {ukuran-1}).\")\n",
        "  print(\n",
        "      \"Ayo cari harta karun dengan Kapten Jack Sparrow!!\",\n",
        "      \"\\n1. Ayo!!\",\n",
        "      \"\\n2. Tampilkan peta tersembunyi\"\n",
        "      \"\\n3. Mungkin lain kali saja\"\n",
        "      )\n",
        "  opsi = int(input(\"Pilih opsi mu: \"))\n",
        "  if opsi == 3:\n",
        "    print(\"Jack Sparrow: \\\"Sampai jumpa di kapal black pearl nak...\\nKapal ini siap untuk menerjang 7 lautan denganmu lain kali.\\\"\")\n",
        "    break\n",
        "  elif opsi == 1:\n",
        "    main_permainan()\n",
        "  elif opsi == 2:\n",
        "    print(map_harta)\n",
        "  else:\n",
        "    print(\"Pilih opsi permainan yang tersedia\")\n",
        "\n"
      ]
    }
  ],
  "metadata": {
    "colab": {
      "provenance": [],
      "authorship_tag": "ABX9TyN3vAZF7F0qIiUH58Hse6p+",
      "include_colab_link": true
    },
    "kernelspec": {
      "display_name": "Python 3",
      "name": "python3"
    },
    "language_info": {
      "name": "python"
    }
  },
  "nbformat": 4,
  "nbformat_minor": 0
}